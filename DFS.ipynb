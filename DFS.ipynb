{
 "cells": [
  {
   "cell_type": "code",
   "execution_count": 1,
   "id": "822c7f9f",
   "metadata": {},
   "outputs": [],
   "source": [
    "WHITE = 0\n",
    "GRAY = 1\n",
    "BLACK = 2\n",
    "time = 0\n",
    "\n",
    "def dfs(graph):\n",
    "    color = {}\n",
    "    parent = {}\n",
    "    discover = {}\n",
    "    finish = {}\n",
    "    for u in graph:\n",
    "        color[u] = WHITE\n",
    "        parent[u] = None\n",
    "        discover[u] = 0\n",
    "        finish[u] = 0\n",
    "    global time\n",
    "    time = 0\n",
    "    for u in graph:\n",
    "        if color[u] == WHITE:\n",
    "            dfs_visit(graph, u, color, parent, discover, finish)\n",
    "    return color, parent, discover, finish\n",
    "\n",
    "def dfs_visit(graph, u, color, parent, discover, finish):\n",
    "    global time\n",
    "    time += 1\n",
    "    discover[u] = time\n",
    "    color[u] = GRAY\n",
    "    for v in graph[u]:\n",
    "        if color[v] == WHITE:\n",
    "            parent[v] = u\n",
    "            dfs_visit(graph, v, color, parent, discover, finish)\n",
    "    color[u] = BLACK\n",
    "    time += 1\n",
    "    finish[u] = time\n",
    "\n"
   ]
  },
  {
   "cell_type": "code",
   "execution_count": 2,
   "id": "5b286bdf",
   "metadata": {},
   "outputs": [
    {
     "name": "stdout",
     "output_type": "stream",
     "text": [
      "Colors: {'A': 2, 'B': 2, 'C': 2, 'D': 2, 'E': 2, 'F': 2}\n",
      "Parents: {'A': None, 'B': 'A', 'C': 'A', 'D': 'B', 'E': 'B', 'F': 'E'}\n",
      "Discovery Times: {'A': 1, 'B': 2, 'C': 10, 'D': 3, 'E': 5, 'F': 6}\n",
      "Finish Times: {'A': 12, 'B': 9, 'C': 11, 'D': 4, 'E': 8, 'F': 7}\n"
     ]
    }
   ],
   "source": [
    "graph = {\n",
    "    'A': ['B', 'C'],\n",
    "    'B': ['D', 'E'],\n",
    "    'C': ['F'],\n",
    "    'D': [],\n",
    "    'E': ['F'],\n",
    "    'F': []\n",
    "}\n",
    "\n",
    "color, parent, discover, finish = dfs(graph)\n",
    "print(\"Colors:\", color)\n",
    "print(\"Parents:\", parent)\n",
    "print(\"Discovery Times:\", discover)\n",
    "print(\"Finish Times:\", finish)\n"
   ]
  },
  {
   "cell_type": "markdown",
   "id": "75080631",
   "metadata": {},
   "source": [
    "FINDING THE PATH WHERE START AND END NODE GIVEN\n"
   ]
  },
  {
   "cell_type": "code",
   "execution_count": 3,
   "id": "402e6b4b",
   "metadata": {},
   "outputs": [],
   "source": [
    "def dfs_path(graph, start, end):\n",
    "    visited = set()\n",
    "    parent = {}\n",
    "\n",
    "    def dfs(u):\n",
    "        visited.add(u)\n",
    "        if u == end:\n",
    "            return True\n",
    "        for v in graph[u]:\n",
    "            if v not in visited:\n",
    "                parent[v] = u\n",
    "                if dfs(v):\n",
    "                    return True\n",
    "        return False\n",
    "\n",
    "    parent[start] = None\n",
    "    if dfs(start):\n",
    "        path = []\n",
    "        curr = end\n",
    "        while curr is not None:\n",
    "            path.append(curr)\n",
    "            curr = parent[curr]\n",
    "        path.reverse()\n",
    "        return path\n",
    "    return None\n",
    "\n"
   ]
  },
  {
   "cell_type": "code",
   "execution_count": 4,
   "id": "7eda67c9",
   "metadata": {},
   "outputs": [
    {
     "name": "stdout",
     "output_type": "stream",
     "text": [
      "Path A → F: ['A', 'B', 'E', 'F']\n",
      "Path B → F: ['B', 'E', 'F']\n",
      "Path C → D: None\n"
     ]
    }
   ],
   "source": [
    "graph = {\n",
    "    'A': ['B', 'C'],\n",
    "    'B': ['D', 'E'],\n",
    "    'C': ['F'],\n",
    "    'D': [],\n",
    "    'E': ['F'],\n",
    "    'F': []\n",
    "}\n",
    "\n",
    "print(\"Path A → F:\", dfs_path(graph, 'A', 'F'))\n",
    "print(\"Path B → F:\", dfs_path(graph, 'B', 'F'))\n",
    "print(\"Path C → D:\", dfs_path(graph, 'C', 'D'))"
   ]
  }
 ],
 "metadata": {
  "kernelspec": {
   "display_name": "Python 3",
   "language": "python",
   "name": "python3"
  },
  "language_info": {
   "codemirror_mode": {
    "name": "ipython",
    "version": 3
   },
   "file_extension": ".py",
   "mimetype": "text/x-python",
   "name": "python",
   "nbconvert_exporter": "python",
   "pygments_lexer": "ipython3",
   "version": "3.13.1"
  }
 },
 "nbformat": 4,
 "nbformat_minor": 5
}
