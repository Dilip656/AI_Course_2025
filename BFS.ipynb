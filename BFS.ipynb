{
 "cells": [
  {
   "cell_type": "code",
   "execution_count": 1,
   "id": "c3ac3bdb",
   "metadata": {},
   "outputs": [],
   "source": [
    "from collections import deque\n",
    "\n",
    "WHITE = 0\n",
    "GRAY = 1\n",
    "BLACK = 2\n",
    "\n",
    "def bfs(graph, source):\n",
    "    color = {}\n",
    "    distance = {}\n",
    "    parent = {}\n",
    "    for u in graph:\n",
    "        color[u] = WHITE\n",
    "        distance[u] = float(\"inf\")\n",
    "        parent[u] = None\n",
    "    color[source] = GRAY\n",
    "    distance[source] = 0\n",
    "    parent[source] = None\n",
    "    queue = deque([source])\n",
    "    while queue:\n",
    "        u = queue.popleft()\n",
    "        for v in graph[u]:\n",
    "            if color[v] == WHITE:\n",
    "                color[v] = GRAY\n",
    "                distance[v] = distance[u] + 1\n",
    "                parent[v] = u\n",
    "                queue.append(v)\n",
    "        color[u] = BLACK\n",
    "    return color, distance, parent\n",
    "\n"
   ]
  },
  {
   "cell_type": "code",
   "execution_count": 2,
   "id": "d8efab9b",
   "metadata": {},
   "outputs": [],
   "source": [
    "graph = {\n",
    "    'A': ['B', 'C'],\n",
    "    'B': ['A', 'D', 'E'],\n",
    "    'C': ['A', 'F'],\n",
    "    'D': ['B'],\n",
    "    'E': ['B', 'F'],\n",
    "    'F': ['C', 'E']\n",
    "}"
   ]
  },
  {
   "cell_type": "code",
   "execution_count": 3,
   "id": "0b1dc755",
   "metadata": {},
   "outputs": [
    {
     "name": "stdout",
     "output_type": "stream",
     "text": [
      "Colors: {'A': 2, 'B': 2, 'C': 2, 'D': 2, 'E': 2, 'F': 2}\n",
      "Distances: {'A': 0, 'B': 1, 'C': 1, 'D': 2, 'E': 2, 'F': 2}\n",
      "Parents: {'A': None, 'B': 'A', 'C': 'A', 'D': 'B', 'E': 'B', 'F': 'C'}\n"
     ]
    }
   ],
   "source": [
    "color, distance, parent = bfs(graph, 'A')\n",
    "print(\"Colors:\", color)\n",
    "print(\"Distances:\", distance)\n",
    "print(\"Parents:\", parent)\n"
   ]
  },
  {
   "cell_type": "markdown",
   "id": "766a8204",
   "metadata": {},
   "source": [
    "FINDING THE PATH WHERE START AND END NODE GIVEN"
   ]
  },
  {
   "cell_type": "code",
   "execution_count": 5,
   "id": "d9e85e35",
   "metadata": {},
   "outputs": [],
   "source": [
    "from collections import deque\n",
    "\n",
    "def bfs_path(graph, start, end):\n",
    "    color = {}\n",
    "    distance = {}\n",
    "    parent = {}\n",
    "    for u in graph:\n",
    "        color[u] = 0\n",
    "        distance[u] = float(\"inf\")\n",
    "        parent[u] = None\n",
    "    color[start] = 1\n",
    "    distance[start] = 0\n",
    "    queue = deque([start])\n",
    "    while queue:\n",
    "        u = queue.popleft()\n",
    "        for v in graph[u]:\n",
    "            if color[v] == 0:\n",
    "                color[v] = 1\n",
    "                distance[v] = distance[u] + 1\n",
    "                parent[v] = u\n",
    "                queue.append(v)\n",
    "        color[u] = 2\n",
    "    \n",
    "    path = []\n",
    "    curr = end\n",
    "    while curr is not None:\n",
    "        path.append(curr)\n",
    "        curr = parent[curr]\n",
    "    path.reverse()\n",
    "    if path[0] == start:\n",
    "        return path\n",
    "    return None\n",
    "\n"
   ]
  },
  {
   "cell_type": "code",
   "execution_count": 6,
   "id": "99718473",
   "metadata": {},
   "outputs": [
    {
     "name": "stdout",
     "output_type": "stream",
     "text": [
      "Path A → F: ['A', 'C', 'F']\n",
      "Path A → D: ['A', 'B', 'D']\n",
      "Path C → E: ['C', 'F', 'E']\n"
     ]
    }
   ],
   "source": [
    "graph = {\n",
    "    'A': ['B', 'C'],\n",
    "    'B': ['A', 'D', 'E'],\n",
    "    'C': ['A', 'F'],\n",
    "    'D': ['B'],\n",
    "    'E': ['B', 'F'],\n",
    "    'F': ['C', 'E']\n",
    "}\n",
    "\n",
    "print(\"Path A → F:\", bfs_path(graph, 'A', 'F'))\n",
    "print(\"Path A → D:\", bfs_path(graph, 'A', 'D'))\n",
    "print(\"Path C → E:\", bfs_path(graph, 'C', 'E'))\n"
   ]
  }
 ],
 "metadata": {
  "kernelspec": {
   "display_name": "Python 3",
   "language": "python",
   "name": "python3"
  },
  "language_info": {
   "codemirror_mode": {
    "name": "ipython",
    "version": 3
   },
   "file_extension": ".py",
   "mimetype": "text/x-python",
   "name": "python",
   "nbconvert_exporter": "python",
   "pygments_lexer": "ipython3",
   "version": "3.13.1"
  }
 },
 "nbformat": 4,
 "nbformat_minor": 5
}
